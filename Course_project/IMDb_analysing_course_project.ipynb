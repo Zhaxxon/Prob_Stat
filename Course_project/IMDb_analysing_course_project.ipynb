{
  "nbformat": 4,
  "nbformat_minor": 0,
  "metadata": {
    "colab": {
      "name": "IMDb_analysing_course_project.ipynb",
      "provenance": [],
      "collapsed_sections": [],
      "machine_shape": "hm",
      "mount_file_id": "1jv2N4x2zoKrekf0cBrl3CKXI8BaXDBTZ",
      "authorship_tag": "ABX9TyM1ud6OuigM9DiSQpxsP/wT",
      "include_colab_link": true
    },
    "kernelspec": {
      "name": "python3",
      "display_name": "Python 3"
    },
    "accelerator": "GPU"
  },
  "cells": [
    {
      "cell_type": "markdown",
      "metadata": {
        "id": "view-in-github",
        "colab_type": "text"
      },
      "source": [
        "<a href=\"https://colab.research.google.com/github/Zhaxxon/Prob_Stat/blob/master/Course_project/IMDb_analysing_course_project.ipynb\" target=\"_parent\"><img src=\"https://colab.research.google.com/assets/colab-badge.svg\" alt=\"Open In Colab\"/></a>"
      ]
    },
    {
      "cell_type": "code",
      "metadata": {
        "id": "QTm2bBCLiKaZ",
        "colab_type": "code",
        "colab": {}
      },
      "source": [
        "import numpy as np\n",
        "import pandas as pd\n",
        "import matplotlib.pyplot as plt"
      ],
      "execution_count": 0,
      "outputs": []
    },
    {
      "cell_type": "markdown",
      "metadata": {
        "id": "jESFVDiAz1Iy",
        "colab_type": "text"
      },
      "source": [
        "# IMDb data analysing of 2020 movies for duration VS rating."
      ]
    },
    {
      "cell_type": "markdown",
      "metadata": {
        "id": "2MEWBajwKFPP",
        "colab_type": "text"
      },
      "source": [
        "\n",
        "**Loading IMDb Dataset**\n",
        "\n",
        "Each dataset is contained in a gzipped, tab-separated-values (TSV) formatted file in the UTF-8 character set. The first line in each file contains headers that describe what is in each column. A ‘\\N’ is used to denote that a particular field is missing or null for that title/name. The available datasets are as follows:"
      ]
    },
    {
      "cell_type": "code",
      "metadata": {
        "id": "UOpFsxx-q6Q6",
        "colab_type": "code",
        "outputId": "5f5c3be5-31d8-43cf-c7a4-70d20047b50f",
        "colab": {
          "base_uri": "https://localhost:8080/",
          "height": 51
        }
      },
      "source": [
        "title_basics = pd.read_csv('drive/My Drive/project_data/title.basics.tsv.gz', sep='\\t', encoding='utf-8')"
      ],
      "execution_count": 85,
      "outputs": [
        {
          "output_type": "stream",
          "text": [
            "/usr/local/lib/python3.6/dist-packages/IPython/core/interactiveshell.py:2718: DtypeWarning: Columns (5) have mixed types.Specify dtype option on import or set low_memory=False.\n",
            "  interactivity=interactivity, compiler=compiler, result=result)\n"
          ],
          "name": "stderr"
        }
      ]
    },
    {
      "cell_type": "markdown",
      "metadata": {
        "id": "DKqX-RM5rs10",
        "colab_type": "text"
      },
      "source": [
        "**title.basics.tsv.gz** - Contains the following information for titles:\n",
        "\n",
        "\n",
        "*   tconst (string) - alphanumeric unique identifier of the title\n",
        "*   titleType (string) – the type/format of the title (e.g. movie, short, tvseries, tvepisode, video, etc)\n",
        "*   primaryTitle (string) – the more popular title / the title used by the filmmakers on promotional materials at the point of release\n",
        "*   originalTitle (string) - original title, in the original language\n",
        "*   isAdult (boolean) - 0: non-adult title; 1: adult title\n",
        "*   startYear (YYYY) – represents the release year of a title. In the case of TV Series, it is the series start year\n",
        "*   endYear (YYYY) – TV Series end year. ‘\\N’ for all other title types\n",
        "runtimeMinutes – primary runtime of the title, in minutes\n",
        "*   genres (string array) – includes up to three genres associated with the title"
      ]
    },
    {
      "cell_type": "code",
      "metadata": {
        "id": "my1glxEurAPB",
        "colab_type": "code",
        "outputId": "90c025e4-a5b3-40dc-a7e4-a18fb9292585",
        "colab": {
          "base_uri": "https://localhost:8080/",
          "height": 204
        }
      },
      "source": [
        "title_basics.head()"
      ],
      "execution_count": 86,
      "outputs": [
        {
          "output_type": "execute_result",
          "data": {
            "text/html": [
              "<div>\n",
              "<style scoped>\n",
              "    .dataframe tbody tr th:only-of-type {\n",
              "        vertical-align: middle;\n",
              "    }\n",
              "\n",
              "    .dataframe tbody tr th {\n",
              "        vertical-align: top;\n",
              "    }\n",
              "\n",
              "    .dataframe thead th {\n",
              "        text-align: right;\n",
              "    }\n",
              "</style>\n",
              "<table border=\"1\" class=\"dataframe\">\n",
              "  <thead>\n",
              "    <tr style=\"text-align: right;\">\n",
              "      <th></th>\n",
              "      <th>tconst</th>\n",
              "      <th>titleType</th>\n",
              "      <th>primaryTitle</th>\n",
              "      <th>originalTitle</th>\n",
              "      <th>isAdult</th>\n",
              "      <th>startYear</th>\n",
              "      <th>endYear</th>\n",
              "      <th>runtimeMinutes</th>\n",
              "      <th>genres</th>\n",
              "    </tr>\n",
              "  </thead>\n",
              "  <tbody>\n",
              "    <tr>\n",
              "      <th>0</th>\n",
              "      <td>tt0000001</td>\n",
              "      <td>short</td>\n",
              "      <td>Carmencita</td>\n",
              "      <td>Carmencita</td>\n",
              "      <td>0</td>\n",
              "      <td>1894</td>\n",
              "      <td>\\N</td>\n",
              "      <td>1</td>\n",
              "      <td>Documentary,Short</td>\n",
              "    </tr>\n",
              "    <tr>\n",
              "      <th>1</th>\n",
              "      <td>tt0000002</td>\n",
              "      <td>short</td>\n",
              "      <td>Le clown et ses chiens</td>\n",
              "      <td>Le clown et ses chiens</td>\n",
              "      <td>0</td>\n",
              "      <td>1892</td>\n",
              "      <td>\\N</td>\n",
              "      <td>5</td>\n",
              "      <td>Animation,Short</td>\n",
              "    </tr>\n",
              "    <tr>\n",
              "      <th>2</th>\n",
              "      <td>tt0000003</td>\n",
              "      <td>short</td>\n",
              "      <td>Pauvre Pierrot</td>\n",
              "      <td>Pauvre Pierrot</td>\n",
              "      <td>0</td>\n",
              "      <td>1892</td>\n",
              "      <td>\\N</td>\n",
              "      <td>4</td>\n",
              "      <td>Animation,Comedy,Romance</td>\n",
              "    </tr>\n",
              "    <tr>\n",
              "      <th>3</th>\n",
              "      <td>tt0000004</td>\n",
              "      <td>short</td>\n",
              "      <td>Un bon bock</td>\n",
              "      <td>Un bon bock</td>\n",
              "      <td>0</td>\n",
              "      <td>1892</td>\n",
              "      <td>\\N</td>\n",
              "      <td>12</td>\n",
              "      <td>Animation,Short</td>\n",
              "    </tr>\n",
              "    <tr>\n",
              "      <th>4</th>\n",
              "      <td>tt0000005</td>\n",
              "      <td>short</td>\n",
              "      <td>Blacksmith Scene</td>\n",
              "      <td>Blacksmith Scene</td>\n",
              "      <td>0</td>\n",
              "      <td>1893</td>\n",
              "      <td>\\N</td>\n",
              "      <td>1</td>\n",
              "      <td>Comedy,Short</td>\n",
              "    </tr>\n",
              "  </tbody>\n",
              "</table>\n",
              "</div>"
            ],
            "text/plain": [
              "      tconst titleType  ... runtimeMinutes                    genres\n",
              "0  tt0000001     short  ...              1         Documentary,Short\n",
              "1  tt0000002     short  ...              5           Animation,Short\n",
              "2  tt0000003     short  ...              4  Animation,Comedy,Romance\n",
              "3  tt0000004     short  ...             12           Animation,Short\n",
              "4  tt0000005     short  ...              1              Comedy,Short\n",
              "\n",
              "[5 rows x 9 columns]"
            ]
          },
          "metadata": {
            "tags": []
          },
          "execution_count": 86
        }
      ]
    },
    {
      "cell_type": "code",
      "metadata": {
        "id": "xf7GWPQfjpW5",
        "colab_type": "code",
        "colab": {}
      },
      "source": [
        "title_ratings = pd.read_csv('drive/My Drive/project_data/title.ratings.tsv.gz', sep='\\t', encoding='utf-8')"
      ],
      "execution_count": 0,
      "outputs": []
    },
    {
      "cell_type": "markdown",
      "metadata": {
        "id": "FbSy6t9pqZsf",
        "colab_type": "text"
      },
      "source": [
        "**title.ratings.tsv.gz** – Contains the IMDb rating and votes information for titles:\n",
        "*   tconst (string) - alphanumeric unique identifier of the title\n",
        "*   averageRating – weighted average of all the individual user ratings\n",
        "*   numVotes - number of votes the title has received"
      ]
    },
    {
      "cell_type": "code",
      "metadata": {
        "id": "-7iGMcSujxQ7",
        "colab_type": "code",
        "outputId": "3840f4a0-7b7d-4aa9-fca4-73c6b673f985",
        "colab": {
          "base_uri": "https://localhost:8080/",
          "height": 204
        }
      },
      "source": [
        "title_ratings.head()"
      ],
      "execution_count": 88,
      "outputs": [
        {
          "output_type": "execute_result",
          "data": {
            "text/html": [
              "<div>\n",
              "<style scoped>\n",
              "    .dataframe tbody tr th:only-of-type {\n",
              "        vertical-align: middle;\n",
              "    }\n",
              "\n",
              "    .dataframe tbody tr th {\n",
              "        vertical-align: top;\n",
              "    }\n",
              "\n",
              "    .dataframe thead th {\n",
              "        text-align: right;\n",
              "    }\n",
              "</style>\n",
              "<table border=\"1\" class=\"dataframe\">\n",
              "  <thead>\n",
              "    <tr style=\"text-align: right;\">\n",
              "      <th></th>\n",
              "      <th>tconst</th>\n",
              "      <th>averageRating</th>\n",
              "      <th>numVotes</th>\n",
              "    </tr>\n",
              "  </thead>\n",
              "  <tbody>\n",
              "    <tr>\n",
              "      <th>0</th>\n",
              "      <td>tt0000001</td>\n",
              "      <td>5.6</td>\n",
              "      <td>1609</td>\n",
              "    </tr>\n",
              "    <tr>\n",
              "      <th>1</th>\n",
              "      <td>tt0000002</td>\n",
              "      <td>6.0</td>\n",
              "      <td>197</td>\n",
              "    </tr>\n",
              "    <tr>\n",
              "      <th>2</th>\n",
              "      <td>tt0000003</td>\n",
              "      <td>6.5</td>\n",
              "      <td>1287</td>\n",
              "    </tr>\n",
              "    <tr>\n",
              "      <th>3</th>\n",
              "      <td>tt0000004</td>\n",
              "      <td>6.1</td>\n",
              "      <td>121</td>\n",
              "    </tr>\n",
              "    <tr>\n",
              "      <th>4</th>\n",
              "      <td>tt0000005</td>\n",
              "      <td>6.1</td>\n",
              "      <td>2052</td>\n",
              "    </tr>\n",
              "  </tbody>\n",
              "</table>\n",
              "</div>"
            ],
            "text/plain": [
              "      tconst  averageRating  numVotes\n",
              "0  tt0000001            5.6      1609\n",
              "1  tt0000002            6.0       197\n",
              "2  tt0000003            6.5      1287\n",
              "3  tt0000004            6.1       121\n",
              "4  tt0000005            6.1      2052"
            ]
          },
          "metadata": {
            "tags": []
          },
          "execution_count": 88
        }
      ]
    },
    {
      "cell_type": "markdown",
      "metadata": {
        "id": "5bzyFL6yI9io",
        "colab_type": "text"
      },
      "source": [
        "**We merge our 2 dataFrame \"title_basics\" and \"title_ratings\".**"
      ]
    },
    {
      "cell_type": "code",
      "metadata": {
        "id": "1urD6s76_T3Y",
        "colab_type": "code",
        "colab": {}
      },
      "source": [
        "data_merged_total = pd.merge(title_basics, title_ratings, on=['tconst'])"
      ],
      "execution_count": 0,
      "outputs": []
    },
    {
      "cell_type": "code",
      "metadata": {
        "id": "PGSOfd9jHKlj",
        "colab_type": "code",
        "outputId": "15787ea8-b64d-461f-cdea-fdd6d2c58fcc",
        "colab": {
          "base_uri": "https://localhost:8080/",
          "height": 204
        }
      },
      "source": [
        "data_merged_total.head()"
      ],
      "execution_count": 90,
      "outputs": [
        {
          "output_type": "execute_result",
          "data": {
            "text/html": [
              "<div>\n",
              "<style scoped>\n",
              "    .dataframe tbody tr th:only-of-type {\n",
              "        vertical-align: middle;\n",
              "    }\n",
              "\n",
              "    .dataframe tbody tr th {\n",
              "        vertical-align: top;\n",
              "    }\n",
              "\n",
              "    .dataframe thead th {\n",
              "        text-align: right;\n",
              "    }\n",
              "</style>\n",
              "<table border=\"1\" class=\"dataframe\">\n",
              "  <thead>\n",
              "    <tr style=\"text-align: right;\">\n",
              "      <th></th>\n",
              "      <th>tconst</th>\n",
              "      <th>titleType</th>\n",
              "      <th>primaryTitle</th>\n",
              "      <th>originalTitle</th>\n",
              "      <th>isAdult</th>\n",
              "      <th>startYear</th>\n",
              "      <th>endYear</th>\n",
              "      <th>runtimeMinutes</th>\n",
              "      <th>genres</th>\n",
              "      <th>averageRating</th>\n",
              "      <th>numVotes</th>\n",
              "    </tr>\n",
              "  </thead>\n",
              "  <tbody>\n",
              "    <tr>\n",
              "      <th>0</th>\n",
              "      <td>tt0000001</td>\n",
              "      <td>short</td>\n",
              "      <td>Carmencita</td>\n",
              "      <td>Carmencita</td>\n",
              "      <td>0</td>\n",
              "      <td>1894</td>\n",
              "      <td>\\N</td>\n",
              "      <td>1</td>\n",
              "      <td>Documentary,Short</td>\n",
              "      <td>5.6</td>\n",
              "      <td>1609</td>\n",
              "    </tr>\n",
              "    <tr>\n",
              "      <th>1</th>\n",
              "      <td>tt0000002</td>\n",
              "      <td>short</td>\n",
              "      <td>Le clown et ses chiens</td>\n",
              "      <td>Le clown et ses chiens</td>\n",
              "      <td>0</td>\n",
              "      <td>1892</td>\n",
              "      <td>\\N</td>\n",
              "      <td>5</td>\n",
              "      <td>Animation,Short</td>\n",
              "      <td>6.0</td>\n",
              "      <td>197</td>\n",
              "    </tr>\n",
              "    <tr>\n",
              "      <th>2</th>\n",
              "      <td>tt0000003</td>\n",
              "      <td>short</td>\n",
              "      <td>Pauvre Pierrot</td>\n",
              "      <td>Pauvre Pierrot</td>\n",
              "      <td>0</td>\n",
              "      <td>1892</td>\n",
              "      <td>\\N</td>\n",
              "      <td>4</td>\n",
              "      <td>Animation,Comedy,Romance</td>\n",
              "      <td>6.5</td>\n",
              "      <td>1287</td>\n",
              "    </tr>\n",
              "    <tr>\n",
              "      <th>3</th>\n",
              "      <td>tt0000004</td>\n",
              "      <td>short</td>\n",
              "      <td>Un bon bock</td>\n",
              "      <td>Un bon bock</td>\n",
              "      <td>0</td>\n",
              "      <td>1892</td>\n",
              "      <td>\\N</td>\n",
              "      <td>12</td>\n",
              "      <td>Animation,Short</td>\n",
              "      <td>6.1</td>\n",
              "      <td>121</td>\n",
              "    </tr>\n",
              "    <tr>\n",
              "      <th>4</th>\n",
              "      <td>tt0000005</td>\n",
              "      <td>short</td>\n",
              "      <td>Blacksmith Scene</td>\n",
              "      <td>Blacksmith Scene</td>\n",
              "      <td>0</td>\n",
              "      <td>1893</td>\n",
              "      <td>\\N</td>\n",
              "      <td>1</td>\n",
              "      <td>Comedy,Short</td>\n",
              "      <td>6.1</td>\n",
              "      <td>2052</td>\n",
              "    </tr>\n",
              "  </tbody>\n",
              "</table>\n",
              "</div>"
            ],
            "text/plain": [
              "      tconst titleType  ... averageRating numVotes\n",
              "0  tt0000001     short  ...           5.6     1609\n",
              "1  tt0000002     short  ...           6.0      197\n",
              "2  tt0000003     short  ...           6.5     1287\n",
              "3  tt0000004     short  ...           6.1      121\n",
              "4  tt0000005     short  ...           6.1     2052\n",
              "\n",
              "[5 rows x 11 columns]"
            ]
          },
          "metadata": {
            "tags": []
          },
          "execution_count": 90
        }
      ]
    },
    {
      "cell_type": "code",
      "metadata": {
        "id": "g4wRzgW9JX-t",
        "colab_type": "code",
        "outputId": "a782896b-2b56-4d85-d888-6800834b3250",
        "colab": {
          "base_uri": "https://localhost:8080/",
          "height": 323
        }
      },
      "source": [
        "data_merged_total.info()"
      ],
      "execution_count": 91,
      "outputs": [
        {
          "output_type": "stream",
          "text": [
            "<class 'pandas.core.frame.DataFrame'>\n",
            "Int64Index: 1031808 entries, 0 to 1031807\n",
            "Data columns (total 11 columns):\n",
            " #   Column          Non-Null Count    Dtype  \n",
            "---  ------          --------------    -----  \n",
            " 0   tconst          1031808 non-null  object \n",
            " 1   titleType       1031808 non-null  object \n",
            " 2   primaryTitle    1031808 non-null  object \n",
            " 3   originalTitle   1031808 non-null  object \n",
            " 4   isAdult         1031808 non-null  int64  \n",
            " 5   startYear       1031808 non-null  object \n",
            " 6   endYear         1031808 non-null  object \n",
            " 7   runtimeMinutes  1031808 non-null  object \n",
            " 8   genres          1031806 non-null  object \n",
            " 9   averageRating   1031808 non-null  float64\n",
            " 10  numVotes        1031808 non-null  int64  \n",
            "dtypes: float64(1), int64(2), object(8)\n",
            "memory usage: 94.5+ MB\n"
          ],
          "name": "stdout"
        }
      ]
    },
    {
      "cell_type": "markdown",
      "metadata": {
        "id": "JKk5jwkLLGhI",
        "colab_type": "text"
      },
      "source": [
        "**Dtype of runtimeMinutes startYear we change to int. Because, further we need this runtimeMinutes when we sort out the movies as per duration. Before proceeding we need to get rid of from the missing values in runtimeMinutes**"
      ]
    },
    {
      "cell_type": "code",
      "metadata": {
        "id": "wkgLSm1BU4ho",
        "colab_type": "code",
        "colab": {}
      },
      "source": [
        "data_merged_total = data_merged_total[(((data_merged_total.runtimeMinutes != '\\\\N') & (data_merged_total.runtimeMinutes != 'Reality-TV')) & (data_merged_total.runtimeMinutes != 'Talk-Show'))]"
      ],
      "execution_count": 0,
      "outputs": []
    },
    {
      "cell_type": "code",
      "metadata": {
        "id": "NbEfFamhT0Yq",
        "colab_type": "code",
        "colab": {}
      },
      "source": [
        "data_merged_total = data_merged_total[data_merged_total.startYear != '\\\\N']"
      ],
      "execution_count": 0,
      "outputs": []
    },
    {
      "cell_type": "code",
      "metadata": {
        "id": "PseOAtJKLDrI",
        "colab_type": "code",
        "colab": {}
      },
      "source": [
        "data_merged_total['runtimeMinutes'] = data_merged_total['runtimeMinutes'].astype(np.int64)\n",
        "data_merged_total['startYear'] = data_merged_total['startYear'].astype(np.int64)"
      ],
      "execution_count": 0,
      "outputs": []
    },
    {
      "cell_type": "code",
      "metadata": {
        "id": "eblmeVxIR6iY",
        "colab_type": "code",
        "outputId": "f4417827-4d8c-4d88-fd0c-efbd850f6952",
        "colab": {
          "base_uri": "https://localhost:8080/",
          "height": 323
        }
      },
      "source": [
        "data_merged_total.info()"
      ],
      "execution_count": 95,
      "outputs": [
        {
          "output_type": "stream",
          "text": [
            "<class 'pandas.core.frame.DataFrame'>\n",
            "Int64Index: 752735 entries, 0 to 1031806\n",
            "Data columns (total 11 columns):\n",
            " #   Column          Non-Null Count   Dtype  \n",
            "---  ------          --------------   -----  \n",
            " 0   tconst          752735 non-null  object \n",
            " 1   titleType       752735 non-null  object \n",
            " 2   primaryTitle    752735 non-null  object \n",
            " 3   originalTitle   752735 non-null  object \n",
            " 4   isAdult         752735 non-null  int64  \n",
            " 5   startYear       752735 non-null  int64  \n",
            " 6   endYear         752735 non-null  object \n",
            " 7   runtimeMinutes  752735 non-null  int64  \n",
            " 8   genres          752735 non-null  object \n",
            " 9   averageRating   752735 non-null  float64\n",
            " 10  numVotes        752735 non-null  int64  \n",
            "dtypes: float64(1), int64(4), object(6)\n",
            "memory usage: 68.9+ MB\n"
          ],
          "name": "stdout"
        }
      ]
    },
    {
      "cell_type": "markdown",
      "metadata": {
        "id": "0qDkH2iI-PYu",
        "colab_type": "text"
      },
      "source": [
        "**We check how many types of videos we have in our dataset.**"
      ]
    },
    {
      "cell_type": "code",
      "metadata": {
        "id": "SPNuslRzkst3",
        "colab_type": "code",
        "outputId": "87f7d6d4-9fef-4553-dff8-c47d89c99d1d",
        "colab": {
          "base_uri": "https://localhost:8080/",
          "height": 51
        }
      },
      "source": [
        "title_types = data_merged_total.titleType.unique()\n",
        "title_types\n"
      ],
      "execution_count": 96,
      "outputs": [
        {
          "output_type": "execute_result",
          "data": {
            "text/plain": [
              "array(['short', 'movie', 'tvMovie', 'tvSeries', 'tvEpisode', 'tvShort',\n",
              "       'tvMiniSeries', 'video', 'tvSpecial', 'videoGame'], dtype=object)"
            ]
          },
          "metadata": {
            "tags": []
          },
          "execution_count": 96
        }
      ]
    },
    {
      "cell_type": "markdown",
      "metadata": {
        "id": "fNcXy-c6-9Y4",
        "colab_type": "text"
      },
      "source": [
        "**Here we sort out the movies from our dataset**"
      ]
    },
    {
      "cell_type": "code",
      "metadata": {
        "id": "zKuArWxP-ysl",
        "colab_type": "code",
        "outputId": "993282d7-811e-4bba-8321-fe62ad1e8081",
        "colab": {
          "base_uri": "https://localhost:8080/",
          "height": 419
        }
      },
      "source": [
        "movies = data_merged_total[data_merged_total.titleType == 'movie']\n",
        "movies"
      ],
      "execution_count": 97,
      "outputs": [
        {
          "output_type": "execute_result",
          "data": {
            "text/html": [
              "<div>\n",
              "<style scoped>\n",
              "    .dataframe tbody tr th:only-of-type {\n",
              "        vertical-align: middle;\n",
              "    }\n",
              "\n",
              "    .dataframe tbody tr th {\n",
              "        vertical-align: top;\n",
              "    }\n",
              "\n",
              "    .dataframe thead th {\n",
              "        text-align: right;\n",
              "    }\n",
              "</style>\n",
              "<table border=\"1\" class=\"dataframe\">\n",
              "  <thead>\n",
              "    <tr style=\"text-align: right;\">\n",
              "      <th></th>\n",
              "      <th>tconst</th>\n",
              "      <th>titleType</th>\n",
              "      <th>primaryTitle</th>\n",
              "      <th>originalTitle</th>\n",
              "      <th>isAdult</th>\n",
              "      <th>startYear</th>\n",
              "      <th>endYear</th>\n",
              "      <th>runtimeMinutes</th>\n",
              "      <th>genres</th>\n",
              "      <th>averageRating</th>\n",
              "      <th>numVotes</th>\n",
              "    </tr>\n",
              "  </thead>\n",
              "  <tbody>\n",
              "    <tr>\n",
              "      <th>8</th>\n",
              "      <td>tt0000009</td>\n",
              "      <td>movie</td>\n",
              "      <td>Miss Jerry</td>\n",
              "      <td>Miss Jerry</td>\n",
              "      <td>0</td>\n",
              "      <td>1894</td>\n",
              "      <td>\\N</td>\n",
              "      <td>45</td>\n",
              "      <td>Romance</td>\n",
              "      <td>5.9</td>\n",
              "      <td>152</td>\n",
              "    </tr>\n",
              "    <tr>\n",
              "      <th>145</th>\n",
              "      <td>tt0000147</td>\n",
              "      <td>movie</td>\n",
              "      <td>The Corbett-Fitzsimmons Fight</td>\n",
              "      <td>The Corbett-Fitzsimmons Fight</td>\n",
              "      <td>0</td>\n",
              "      <td>1897</td>\n",
              "      <td>\\N</td>\n",
              "      <td>20</td>\n",
              "      <td>Documentary,News,Sport</td>\n",
              "      <td>5.2</td>\n",
              "      <td>343</td>\n",
              "    </tr>\n",
              "    <tr>\n",
              "      <th>331</th>\n",
              "      <td>tt0000502</td>\n",
              "      <td>movie</td>\n",
              "      <td>Bohemios</td>\n",
              "      <td>Bohemios</td>\n",
              "      <td>0</td>\n",
              "      <td>1905</td>\n",
              "      <td>\\N</td>\n",
              "      <td>100</td>\n",
              "      <td>\\N</td>\n",
              "      <td>4.4</td>\n",
              "      <td>5</td>\n",
              "    </tr>\n",
              "    <tr>\n",
              "      <th>365</th>\n",
              "      <td>tt0000574</td>\n",
              "      <td>movie</td>\n",
              "      <td>The Story of the Kelly Gang</td>\n",
              "      <td>The Story of the Kelly Gang</td>\n",
              "      <td>0</td>\n",
              "      <td>1906</td>\n",
              "      <td>\\N</td>\n",
              "      <td>70</td>\n",
              "      <td>Biography,Crime,Drama</td>\n",
              "      <td>6.1</td>\n",
              "      <td>570</td>\n",
              "    </tr>\n",
              "    <tr>\n",
              "      <th>424</th>\n",
              "      <td>tt0000679</td>\n",
              "      <td>movie</td>\n",
              "      <td>The Fairylogue and Radio-Plays</td>\n",
              "      <td>The Fairylogue and Radio-Plays</td>\n",
              "      <td>0</td>\n",
              "      <td>1908</td>\n",
              "      <td>\\N</td>\n",
              "      <td>120</td>\n",
              "      <td>Adventure,Fantasy</td>\n",
              "      <td>5.0</td>\n",
              "      <td>35</td>\n",
              "    </tr>\n",
              "    <tr>\n",
              "      <th>...</th>\n",
              "      <td>...</td>\n",
              "      <td>...</td>\n",
              "      <td>...</td>\n",
              "      <td>...</td>\n",
              "      <td>...</td>\n",
              "      <td>...</td>\n",
              "      <td>...</td>\n",
              "      <td>...</td>\n",
              "      <td>...</td>\n",
              "      <td>...</td>\n",
              "      <td>...</td>\n",
              "    </tr>\n",
              "    <tr>\n",
              "      <th>1031755</th>\n",
              "      <td>tt9914642</td>\n",
              "      <td>movie</td>\n",
              "      <td>Albatross</td>\n",
              "      <td>Albatross</td>\n",
              "      <td>0</td>\n",
              "      <td>2017</td>\n",
              "      <td>\\N</td>\n",
              "      <td>97</td>\n",
              "      <td>Documentary</td>\n",
              "      <td>8.2</td>\n",
              "      <td>24</td>\n",
              "    </tr>\n",
              "    <tr>\n",
              "      <th>1031756</th>\n",
              "      <td>tt9914644</td>\n",
              "      <td>movie</td>\n",
              "      <td>9/11: Escape from the Towers</td>\n",
              "      <td>9/11: Escape from the Towers</td>\n",
              "      <td>0</td>\n",
              "      <td>2018</td>\n",
              "      <td>\\N</td>\n",
              "      <td>120</td>\n",
              "      <td>Documentary</td>\n",
              "      <td>8.4</td>\n",
              "      <td>38</td>\n",
              "    </tr>\n",
              "    <tr>\n",
              "      <th>1031761</th>\n",
              "      <td>tt9914942</td>\n",
              "      <td>movie</td>\n",
              "      <td>La vida sense la Sara Amat</td>\n",
              "      <td>La vida sense la Sara Amat</td>\n",
              "      <td>0</td>\n",
              "      <td>2019</td>\n",
              "      <td>\\N</td>\n",
              "      <td>74</td>\n",
              "      <td>Drama</td>\n",
              "      <td>6.8</td>\n",
              "      <td>78</td>\n",
              "    </tr>\n",
              "    <tr>\n",
              "      <th>1031791</th>\n",
              "      <td>tt9916160</td>\n",
              "      <td>movie</td>\n",
              "      <td>Drømmeland</td>\n",
              "      <td>Drømmeland</td>\n",
              "      <td>0</td>\n",
              "      <td>2019</td>\n",
              "      <td>\\N</td>\n",
              "      <td>72</td>\n",
              "      <td>Documentary</td>\n",
              "      <td>6.6</td>\n",
              "      <td>36</td>\n",
              "    </tr>\n",
              "    <tr>\n",
              "      <th>1031801</th>\n",
              "      <td>tt9916538</td>\n",
              "      <td>movie</td>\n",
              "      <td>Kuambil Lagi Hatiku</td>\n",
              "      <td>Kuambil Lagi Hatiku</td>\n",
              "      <td>0</td>\n",
              "      <td>2019</td>\n",
              "      <td>\\N</td>\n",
              "      <td>123</td>\n",
              "      <td>Drama</td>\n",
              "      <td>8.4</td>\n",
              "      <td>5</td>\n",
              "    </tr>\n",
              "  </tbody>\n",
              "</table>\n",
              "<p>220352 rows × 11 columns</p>\n",
              "</div>"
            ],
            "text/plain": [
              "            tconst titleType  ... averageRating numVotes\n",
              "8        tt0000009     movie  ...           5.9      152\n",
              "145      tt0000147     movie  ...           5.2      343\n",
              "331      tt0000502     movie  ...           4.4        5\n",
              "365      tt0000574     movie  ...           6.1      570\n",
              "424      tt0000679     movie  ...           5.0       35\n",
              "...            ...       ...  ...           ...      ...\n",
              "1031755  tt9914642     movie  ...           8.2       24\n",
              "1031756  tt9914644     movie  ...           8.4       38\n",
              "1031761  tt9914942     movie  ...           6.8       78\n",
              "1031791  tt9916160     movie  ...           6.6       36\n",
              "1031801  tt9916538     movie  ...           8.4        5\n",
              "\n",
              "[220352 rows x 11 columns]"
            ]
          },
          "metadata": {
            "tags": []
          },
          "execution_count": 97
        }
      ]
    },
    {
      "cell_type": "markdown",
      "metadata": {
        "id": "8xFSbrpn_kmm",
        "colab_type": "text"
      },
      "source": [
        "**We sort out from movies just 2020 movies**"
      ]
    },
    {
      "cell_type": "code",
      "metadata": {
        "id": "TlD7RHNlTJNI",
        "colab_type": "code",
        "outputId": "217a339b-8229-4bf1-c2bf-1a50c0520936",
        "colab": {
          "base_uri": "https://localhost:8080/",
          "height": 419
        }
      },
      "source": [
        "movies_2020 = movies[((movies.runtimeMinutes > 60) & (movies.runtimeMinutes < 200)) & (movies.startYear == 2020)]\n",
        "movies_2020"
      ],
      "execution_count": 98,
      "outputs": [
        {
          "output_type": "execute_result",
          "data": {
            "text/html": [
              "<div>\n",
              "<style scoped>\n",
              "    .dataframe tbody tr th:only-of-type {\n",
              "        vertical-align: middle;\n",
              "    }\n",
              "\n",
              "    .dataframe tbody tr th {\n",
              "        vertical-align: top;\n",
              "    }\n",
              "\n",
              "    .dataframe thead th {\n",
              "        text-align: right;\n",
              "    }\n",
              "</style>\n",
              "<table border=\"1\" class=\"dataframe\">\n",
              "  <thead>\n",
              "    <tr style=\"text-align: right;\">\n",
              "      <th></th>\n",
              "      <th>tconst</th>\n",
              "      <th>titleType</th>\n",
              "      <th>primaryTitle</th>\n",
              "      <th>originalTitle</th>\n",
              "      <th>isAdult</th>\n",
              "      <th>startYear</th>\n",
              "      <th>endYear</th>\n",
              "      <th>runtimeMinutes</th>\n",
              "      <th>genres</th>\n",
              "      <th>averageRating</th>\n",
              "      <th>numVotes</th>\n",
              "    </tr>\n",
              "  </thead>\n",
              "  <tbody>\n",
              "    <tr>\n",
              "      <th>39526</th>\n",
              "      <td>tt0062336</td>\n",
              "      <td>movie</td>\n",
              "      <td>El tango del viudo y su espejo deformante</td>\n",
              "      <td>El tango del viudo y su espejo deformante</td>\n",
              "      <td>0</td>\n",
              "      <td>2020</td>\n",
              "      <td>\\N</td>\n",
              "      <td>70</td>\n",
              "      <td>Drama</td>\n",
              "      <td>6.1</td>\n",
              "      <td>19</td>\n",
              "    </tr>\n",
              "    <tr>\n",
              "      <th>410960</th>\n",
              "      <td>tt0926132</td>\n",
              "      <td>movie</td>\n",
              "      <td>Road to Red</td>\n",
              "      <td>Road to Red</td>\n",
              "      <td>0</td>\n",
              "      <td>2020</td>\n",
              "      <td>\\N</td>\n",
              "      <td>120</td>\n",
              "      <td>Action,Adventure,Horror</td>\n",
              "      <td>4.5</td>\n",
              "      <td>442</td>\n",
              "    </tr>\n",
              "    <tr>\n",
              "      <th>424756</th>\n",
              "      <td>tt0983946</td>\n",
              "      <td>movie</td>\n",
              "      <td>Fantasy Island</td>\n",
              "      <td>Fantasy Island</td>\n",
              "      <td>0</td>\n",
              "      <td>2020</td>\n",
              "      <td>\\N</td>\n",
              "      <td>109</td>\n",
              "      <td>Adventure,Fantasy,Horror</td>\n",
              "      <td>4.8</td>\n",
              "      <td>13199</td>\n",
              "    </tr>\n",
              "    <tr>\n",
              "      <th>428489</th>\n",
              "      <td>tt10006160</td>\n",
              "      <td>movie</td>\n",
              "      <td>Kala azar</td>\n",
              "      <td>Kala azar</td>\n",
              "      <td>0</td>\n",
              "      <td>2020</td>\n",
              "      <td>\\N</td>\n",
              "      <td>90</td>\n",
              "      <td>Drama</td>\n",
              "      <td>6.6</td>\n",
              "      <td>12</td>\n",
              "    </tr>\n",
              "    <tr>\n",
              "      <th>429155</th>\n",
              "      <td>tt10022990</td>\n",
              "      <td>movie</td>\n",
              "      <td>Seeru</td>\n",
              "      <td>Seeru</td>\n",
              "      <td>0</td>\n",
              "      <td>2020</td>\n",
              "      <td>\\N</td>\n",
              "      <td>123</td>\n",
              "      <td>Action,Drama</td>\n",
              "      <td>5.4</td>\n",
              "      <td>178</td>\n",
              "    </tr>\n",
              "    <tr>\n",
              "      <th>...</th>\n",
              "      <td>...</td>\n",
              "      <td>...</td>\n",
              "      <td>...</td>\n",
              "      <td>...</td>\n",
              "      <td>...</td>\n",
              "      <td>...</td>\n",
              "      <td>...</td>\n",
              "      <td>...</td>\n",
              "      <td>...</td>\n",
              "      <td>...</td>\n",
              "      <td>...</td>\n",
              "    </tr>\n",
              "    <tr>\n",
              "      <th>1031322</th>\n",
              "      <td>tt9898858</td>\n",
              "      <td>movie</td>\n",
              "      <td>Coffee &amp; Kareem</td>\n",
              "      <td>Coffee &amp; Kareem</td>\n",
              "      <td>0</td>\n",
              "      <td>2020</td>\n",
              "      <td>\\N</td>\n",
              "      <td>88</td>\n",
              "      <td>Action,Comedy</td>\n",
              "      <td>5.1</td>\n",
              "      <td>7663</td>\n",
              "    </tr>\n",
              "    <tr>\n",
              "      <th>1031411</th>\n",
              "      <td>tt9902160</td>\n",
              "      <td>movie</td>\n",
              "      <td>Herself</td>\n",
              "      <td>Herself</td>\n",
              "      <td>0</td>\n",
              "      <td>2020</td>\n",
              "      <td>\\N</td>\n",
              "      <td>97</td>\n",
              "      <td>Drama</td>\n",
              "      <td>7.6</td>\n",
              "      <td>30</td>\n",
              "    </tr>\n",
              "    <tr>\n",
              "      <th>1031528</th>\n",
              "      <td>tt9908390</td>\n",
              "      <td>movie</td>\n",
              "      <td>Le lion</td>\n",
              "      <td>Le lion</td>\n",
              "      <td>0</td>\n",
              "      <td>2020</td>\n",
              "      <td>\\N</td>\n",
              "      <td>95</td>\n",
              "      <td>Comedy</td>\n",
              "      <td>4.9</td>\n",
              "      <td>172</td>\n",
              "    </tr>\n",
              "    <tr>\n",
              "      <th>1031612</th>\n",
              "      <td>tt9910530</td>\n",
              "      <td>movie</td>\n",
              "      <td>Svartklubb</td>\n",
              "      <td>Svartklubb</td>\n",
              "      <td>0</td>\n",
              "      <td>2020</td>\n",
              "      <td>\\N</td>\n",
              "      <td>79</td>\n",
              "      <td>Horror</td>\n",
              "      <td>6.3</td>\n",
              "      <td>7</td>\n",
              "    </tr>\n",
              "    <tr>\n",
              "      <th>1031621</th>\n",
              "      <td>tt9911196</td>\n",
              "      <td>movie</td>\n",
              "      <td>De Beentjes van Sint-Hildegard</td>\n",
              "      <td>De Beentjes van Sint-Hildegard</td>\n",
              "      <td>0</td>\n",
              "      <td>2020</td>\n",
              "      <td>\\N</td>\n",
              "      <td>103</td>\n",
              "      <td>Comedy,Drama</td>\n",
              "      <td>7.8</td>\n",
              "      <td>515</td>\n",
              "    </tr>\n",
              "  </tbody>\n",
              "</table>\n",
              "<p>1054 rows × 11 columns</p>\n",
              "</div>"
            ],
            "text/plain": [
              "             tconst titleType  ... averageRating numVotes\n",
              "39526     tt0062336     movie  ...           6.1       19\n",
              "410960    tt0926132     movie  ...           4.5      442\n",
              "424756    tt0983946     movie  ...           4.8    13199\n",
              "428489   tt10006160     movie  ...           6.6       12\n",
              "429155   tt10022990     movie  ...           5.4      178\n",
              "...             ...       ...  ...           ...      ...\n",
              "1031322   tt9898858     movie  ...           5.1     7663\n",
              "1031411   tt9902160     movie  ...           7.6       30\n",
              "1031528   tt9908390     movie  ...           4.9      172\n",
              "1031612   tt9910530     movie  ...           6.3        7\n",
              "1031621   tt9911196     movie  ...           7.8      515\n",
              "\n",
              "[1054 rows x 11 columns]"
            ]
          },
          "metadata": {
            "tags": []
          },
          "execution_count": 98
        }
      ]
    },
    {
      "cell_type": "code",
      "metadata": {
        "id": "aSUmPQp1Vwaz",
        "colab_type": "code",
        "outputId": "c342a6ed-e0fa-45ba-bfeb-36b22799eacc",
        "colab": {
          "base_uri": "https://localhost:8080/",
          "height": 297
        }
      },
      "source": [
        "movies_2020.describe()"
      ],
      "execution_count": 99,
      "outputs": [
        {
          "output_type": "execute_result",
          "data": {
            "text/html": [
              "<div>\n",
              "<style scoped>\n",
              "    .dataframe tbody tr th:only-of-type {\n",
              "        vertical-align: middle;\n",
              "    }\n",
              "\n",
              "    .dataframe tbody tr th {\n",
              "        vertical-align: top;\n",
              "    }\n",
              "\n",
              "    .dataframe thead th {\n",
              "        text-align: right;\n",
              "    }\n",
              "</style>\n",
              "<table border=\"1\" class=\"dataframe\">\n",
              "  <thead>\n",
              "    <tr style=\"text-align: right;\">\n",
              "      <th></th>\n",
              "      <th>isAdult</th>\n",
              "      <th>startYear</th>\n",
              "      <th>runtimeMinutes</th>\n",
              "      <th>averageRating</th>\n",
              "      <th>numVotes</th>\n",
              "    </tr>\n",
              "  </thead>\n",
              "  <tbody>\n",
              "    <tr>\n",
              "      <th>count</th>\n",
              "      <td>1054.0</td>\n",
              "      <td>1054.0</td>\n",
              "      <td>1054.000000</td>\n",
              "      <td>1054.000000</td>\n",
              "      <td>1054.000000</td>\n",
              "    </tr>\n",
              "    <tr>\n",
              "      <th>mean</th>\n",
              "      <td>0.0</td>\n",
              "      <td>2020.0</td>\n",
              "      <td>102.335863</td>\n",
              "      <td>6.430266</td>\n",
              "      <td>1048.722960</td>\n",
              "    </tr>\n",
              "    <tr>\n",
              "      <th>std</th>\n",
              "      <td>0.0</td>\n",
              "      <td>0.0</td>\n",
              "      <td>20.903775</td>\n",
              "      <td>1.659639</td>\n",
              "      <td>6026.879723</td>\n",
              "    </tr>\n",
              "    <tr>\n",
              "      <th>min</th>\n",
              "      <td>0.0</td>\n",
              "      <td>2020.0</td>\n",
              "      <td>61.000000</td>\n",
              "      <td>1.100000</td>\n",
              "      <td>5.000000</td>\n",
              "    </tr>\n",
              "    <tr>\n",
              "      <th>25%</th>\n",
              "      <td>0.0</td>\n",
              "      <td>2020.0</td>\n",
              "      <td>88.000000</td>\n",
              "      <td>5.425000</td>\n",
              "      <td>14.000000</td>\n",
              "    </tr>\n",
              "    <tr>\n",
              "      <th>50%</th>\n",
              "      <td>0.0</td>\n",
              "      <td>2020.0</td>\n",
              "      <td>98.000000</td>\n",
              "      <td>6.600000</td>\n",
              "      <td>41.500000</td>\n",
              "    </tr>\n",
              "    <tr>\n",
              "      <th>75%</th>\n",
              "      <td>0.0</td>\n",
              "      <td>2020.0</td>\n",
              "      <td>115.000000</td>\n",
              "      <td>7.500000</td>\n",
              "      <td>195.500000</td>\n",
              "    </tr>\n",
              "    <tr>\n",
              "      <th>max</th>\n",
              "      <td>0.0</td>\n",
              "      <td>2020.0</td>\n",
              "      <td>183.000000</td>\n",
              "      <td>10.000000</td>\n",
              "      <td>98920.000000</td>\n",
              "    </tr>\n",
              "  </tbody>\n",
              "</table>\n",
              "</div>"
            ],
            "text/plain": [
              "       isAdult  startYear  runtimeMinutes  averageRating      numVotes\n",
              "count   1054.0     1054.0     1054.000000    1054.000000   1054.000000\n",
              "mean       0.0     2020.0      102.335863       6.430266   1048.722960\n",
              "std        0.0        0.0       20.903775       1.659639   6026.879723\n",
              "min        0.0     2020.0       61.000000       1.100000      5.000000\n",
              "25%        0.0     2020.0       88.000000       5.425000     14.000000\n",
              "50%        0.0     2020.0       98.000000       6.600000     41.500000\n",
              "75%        0.0     2020.0      115.000000       7.500000    195.500000\n",
              "max        0.0     2020.0      183.000000      10.000000  98920.000000"
            ]
          },
          "metadata": {
            "tags": []
          },
          "execution_count": 99
        }
      ]
    },
    {
      "cell_type": "markdown",
      "metadata": {
        "id": "M6KC_gTn02RE",
        "colab_type": "text"
      },
      "source": [
        "**Visualising the averageRating and runtimeMinutes run of 2020 movies through histogram**"
      ]
    },
    {
      "cell_type": "code",
      "metadata": {
        "id": "frfZmmq4WVTD",
        "colab_type": "code",
        "colab": {
          "base_uri": "https://localhost:8080/",
          "height": 282
        },
        "outputId": "8f702e28-9c91-4726-bd4a-cb61a6786a0b"
      },
      "source": [
        "movies_2020['averageRating'].hist(bins=18)"
      ],
      "execution_count": 100,
      "outputs": [
        {
          "output_type": "execute_result",
          "data": {
            "text/plain": [
              "<matplotlib.axes._subplots.AxesSubplot at 0x7fa0ba50c828>"
            ]
          },
          "metadata": {
            "tags": []
          },
          "execution_count": 100
        },
        {
          "output_type": "display_data",
          "data": {
            "image/png": "[encoded data removed]",
            "text/plain": [
              "<Figure size 432x288 with 1 Axes>"
            ]
          },
          "metadata": {
            "tags": [],
            "needs_background": "light"
          }
        }
      ]
    },
    {
      "cell_type": "code",
      "metadata": {
        "id": "ZzW4hTmv1U2y",
        "colab_type": "code",
        "colab": {
          "base_uri": "https://localhost:8080/",
          "height": 286
        },
        "outputId": "026b1018-e547-4830-e825-743d7afd72b1"
      },
      "source": [
        "movies_2020['runtimeMinutes'].hist(bins=17)"
      ],
      "execution_count": 101,
      "outputs": [
        {
          "output_type": "execute_result",
          "data": {
            "text/plain": [
              "<matplotlib.axes._subplots.AxesSubplot at 0x7fa0ba48dc18>"
            ]
          },
          "metadata": {
            "tags": []
          },
          "execution_count": 101
        },
        {
          "output_type": "display_data",
          "data": {
            "image/png": "[encoded data removed]",
            "text/plain": [
              "<Figure size 432x288 with 1 Axes>"
            ]
          },
          "metadata": {
            "tags": [],
            "needs_background": "light"
          }
        }
      ]
    },
    {
      "cell_type": "markdown",
      "metadata": {
        "id": "i0GiodiD5ETb",
        "colab_type": "text"
      },
      "source": [
        "**Correlation**"
      ]
    },
    {
      "cell_type": "code",
      "metadata": {
        "id": "7ze-Li1A1pJi",
        "colab_type": "code",
        "colab": {}
      },
      "source": [
        "X = movies_2020['runtimeMinutes']\n",
        "y = movies_2020['averageRating']"
      ],
      "execution_count": 0,
      "outputs": []
    },
    {
      "cell_type": "code",
      "metadata": {
        "id": "gM4G6upI5U8I",
        "colab_type": "code",
        "colab": {
          "base_uri": "https://localhost:8080/",
          "height": 51
        },
        "outputId": "3dfa604c-8dc2-4a52-b723-a0c27605188a"
      },
      "source": [
        "Corr = np.corrcoef(X, y)\n",
        "Corr"
      ],
      "execution_count": 103,
      "outputs": [
        {
          "output_type": "execute_result",
          "data": {
            "text/plain": [
              "array([[1.        , 0.12786758],\n",
              "       [0.12786758, 1.        ]])"
            ]
          },
          "metadata": {
            "tags": []
          },
          "execution_count": 103
        }
      ]
    },
    {
      "cell_type": "code",
      "metadata": {
        "id": "hwcjmpU_5WUX",
        "colab_type": "code",
        "colab": {}
      },
      "source": [
        "# Here we see that there is no correlation between 'runtimeMinutes' and 'averageRating'"
      ],
      "execution_count": 0,
      "outputs": []
    },
    {
      "cell_type": "markdown",
      "metadata": {
        "id": "gvqi1t6u-0C8",
        "colab_type": "text"
      },
      "source": [
        "**Linier regression**"
      ]
    },
    {
      "cell_type": "code",
      "metadata": {
        "id": "sce3Ltms64vE",
        "colab_type": "code",
        "colab": {
          "base_uri": "https://localhost:8080/",
          "height": 34
        },
        "outputId": "328988e4-e10a-4e23-a2b8-2f0511a81a64"
      },
      "source": [
        "# Linear regression equation with b0 and b1 coefficients:\n",
        "b1 = (np.mean(X * y) - np.mean(X) * np.mean(y)) / (np.mean(X**2) - np.mean(X)**2)\n",
        "b1"
      ],
      "execution_count": 105,
      "outputs": [
        {
          "output_type": "execute_result",
          "data": {
            "text/plain": [
              "0.01015194695975776"
            ]
          },
          "metadata": {
            "tags": []
          },
          "execution_count": 105
        }
      ]
    },
    {
      "cell_type": "code",
      "metadata": {
        "id": "dDsYxZJJ7TO3",
        "colab_type": "code",
        "colab": {
          "base_uri": "https://localhost:8080/",
          "height": 34
        },
        "outputId": "8dfc6f71-a184-443f-80b9-dbf758302f30"
      },
      "source": [
        "\n",
        "b0 = np.mean(y) - b1 * np.mean(X)\n",
        "b0"
      ],
      "execution_count": 106,
      "outputs": [
        {
          "output_type": "execute_result",
          "data": {
            "text/plain": [
              "5.391357397558467"
            ]
          },
          "metadata": {
            "tags": []
          },
          "execution_count": 106
        }
      ]
    },
    {
      "cell_type": "code",
      "metadata": {
        "id": "YrNcur4O7bdY",
        "colab_type": "code",
        "colab": {
          "base_uri": "https://localhost:8080/",
          "height": 221
        },
        "outputId": "2ab50d8e-3e06-4da4-a62d-e3386cf232ba"
      },
      "source": [
        "y_pred = b0 + b1 * X\n",
        "y_pred"
      ],
      "execution_count": 107,
      "outputs": [
        {
          "output_type": "execute_result",
          "data": {
            "text/plain": [
              "39526      6.101994\n",
              "410960     6.609591\n",
              "424756     6.497920\n",
              "428489     6.305033\n",
              "429155     6.640047\n",
              "             ...   \n",
              "1031322    6.284729\n",
              "1031411    6.376096\n",
              "1031528    6.355792\n",
              "1031612    6.193361\n",
              "1031621    6.437008\n",
              "Name: runtimeMinutes, Length: 1054, dtype: float64"
            ]
          },
          "metadata": {
            "tags": []
          },
          "execution_count": 107
        }
      ]
    },
    {
      "cell_type": "code",
      "metadata": {
        "id": "MFkqSNU47kKH",
        "colab_type": "code",
        "colab": {
          "base_uri": "https://localhost:8080/",
          "height": 296
        },
        "outputId": "9678462e-366f-44c9-8054-a8cbb3654aa1"
      },
      "source": [
        "# Values (scatter plot) and linear regression function (red line)\n",
        "ox = X\n",
        "oy = y_pred\n",
        "\n",
        "plt.scatter(X, y)\n",
        "plt.plot(ox, oy, color='red')\n",
        "\n",
        "plt.xlabel('runtimeMinutes')\n",
        "plt.ylabel('averageRating')"
      ],
      "execution_count": 108,
      "outputs": [
        {
          "output_type": "execute_result",
          "data": {
            "text/plain": [
              "Text(0, 0.5, 'averageRating')"
            ]
          },
          "metadata": {
            "tags": []
          },
          "execution_count": 108
        },
        {
          "output_type": "display_data",
          "data": {
            "image/png": "[encoded data removed]",
            "text/plain": [
              "<Figure size 432x288 with 1 Axes>"
            ]
          },
          "metadata": {
            "tags": [],
            "needs_background": "light"
          }
        }
      ]
    },
    {
      "cell_type": "code",
      "metadata": {
        "id": "KBgQQrC69fB1",
        "colab_type": "code",
        "colab": {
          "base_uri": "https://localhost:8080/",
          "height": 34
        },
        "outputId": "080f5855-2bbd-4139-b930-ed00d846cd41"
      },
      "source": [
        "# R2 score\n",
        "R2 = y_pred.var() / y.var()\n",
        "R2"
      ],
      "execution_count": 109,
      "outputs": [
        {
          "output_type": "execute_result",
          "data": {
            "text/plain": [
              "0.016350118981989865"
            ]
          },
          "metadata": {
            "tags": []
          },
          "execution_count": 109
        }
      ]
    },
    {
      "cell_type": "markdown",
      "metadata": {
        "id": "l1ZOTbSX_H7t",
        "colab_type": "text"
      },
      "source": [
        "Conclusion is that averageRating not depends on runtimeMinutes."
      ]
    }
  ]
}